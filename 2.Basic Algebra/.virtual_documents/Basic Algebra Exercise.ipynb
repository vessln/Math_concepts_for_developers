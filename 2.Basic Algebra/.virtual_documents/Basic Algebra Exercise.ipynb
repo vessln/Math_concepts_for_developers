%matplotlib inline


import numpy as np
from numpy.polynomial.polynomial import Polynomial
import matplotlib.pyplot as plt
import math
import random
import secrets
import time
from sympy.ntheory import factorint
import sympy








# given points:
points = np.array([(0, 0), (1, 0.8), (2, 0.9), (3, 0.1), (4, -0.8), (5, -1.0)])


# extract x, y coordinates:
x = points[:, 0]  # x = [0, 1, 2, 3, 4, 5]
y = points[:, 1]  # y = [0, 0.8, 0.9, 0.1, -0.8, -1.0]

# or:  x, y = xip(*points)  ->  x = (0, 1, 2, 3, 4, 5), y = (0, 0.8, 0.9, 0.1, -0.8, -1.0)


# degree of the polynomial:
degree = len(points) - 1


# calculate the interpolating polynomial:
poly_func = Polynomial.fit(x, y, degree)


# plot:
plot_x = np.linspace(np.min(x), np.max(x), 1000)
plot_y = poly_func(plot_x)
plt.plot(plot_x, plot_y, c="r")
plt.scatter(x, y)
plt.xlabel("x")
plt.ylabel("y")
plt.show()





def interpolate_polynomial(points, degree, min_x, max_x):
    """
    Interpolates a polynomial of the specified degree through the given points and plots it
    points - a list of points (x, y) to plot
    degree - the polynomial degree
    min_x, max_x - range of x values used to plot the interpolating polynomial
    """
    # extratc x, y coordinates:
    x = points[:, 0]
    y = points[:, 1]  
    
    poly_func = Polynomial.fit(x, y, degree)

    # evaluate the polynomial:
    plot_x = np.linspace(min_x, max_x, 1000)
    plot_y = poly_func(plot_x) # for each x coordinate, is predicted y coordinate by polynomial 
    
    # plot points:
    plt.scatter(x, y, c="r")
    
    # plot interpolated polinomial:
    plt.plot(plot_x, plot_y, c="b")

    plt.title("Interpolated polynomial")
    
    plt.xlabel("x")
    plt.ylabel("y")
    plt.show()    


points = np.array([(0, 0), (1, 0.8), (2, 0.9), (3, 0.1), (4, -0.8), (5, -1.0)])
interpolate_polynomial(points, len(points) - 1, np.min(points[:, 0]), np.max(points[:, 0]))





interpolate_polynomial(points, len(points) - 1, -5, 10)





interpolate_polynomial(points, 3, np.min(points[:, 0]), np.max(points[:, 0]))
interpolate_polynomial(points, 2, np.min(points[:, 0]), np.max(points[:, 0]))
interpolate_polynomial(points, 1, np.min(points[:, 0]), np.max(points[:, 0]))





interpolate_polynomial(points, 5, np.min(points[:, 0]), np.max(points[:, 0]))
interpolate_polynomial(points, 7, np.min(points[:, 0]), np.max(points[:, 0]))
interpolate_polynomial(points, 10, np.min(points[:, 0]), np.max(points[:, 0]))





interpolate_polynomial(points, 5, -10, 10)
interpolate_polynomial(points, 7, -10, 10)
interpolate_polynomial(points, 10, -10, 10)





interpolate_polynomial(points, len(points) - 1, -2, 7)
interpolate_polynomial(points, len(points) + 1, -2, 7)





points = np.array([(-5, 0.03846), (-4, 0.05882), (-3, 0.1), (-2, 0.2), (-1, 0.5), (0, 1), (1, 0.5), (2, 0.2), (3, 0.1), (4, 0.05882), (5, 0.03846)])
interpolate_polynomial(points, len(points) - 1, np.min(points[:, 0]), np.max(points[:, 0]))





def interpolate_polynomial_vs_non_polinomial_func(points, degree, min_x, max_x):
    """
    Interpolates a polynomial of the specified degree through the given points and plots it
    points - a list of points (x, y) to plot
    degree - the polynomial degree
    min_x, max_x - range of x values used to plot the interpolating polynomial
    """
    # extratc x, y coordinates:
    x = points[:, 0]
    y = points[:, 1]  
    poly_func = Polynomial.fit(x, y, degree)

    # evaluate the polynomial:
    plot_x = np.linspace(min_x, max_x, 1000)
    plot_y = poly_func(plot_x) # for each x coordinate, is predicted y coordinate by polynomial 

    # real (non polinomial) function:
    real_func = 1 / (1 + plot_x ** 2)
    
    # plot points:
    plt.scatter(x, y, c="r", label="Points")
    
    # plot real (non polinomial) function:
    plt.plot(plot_x, plot_y, c="b", label="Interpolated polynomial")

    # plot interpolated polinomial:
    plt.plot(plot_x, real_func, c="g", label=r"Real function: $ y = \frac{1}{{1 + x^2}} $")
    
    plt.xlabel("x")
    plt.ylabel("y")
    plt.legend()
    plt.show()   


points = np.array([(-5, 0.03846), (-4, 0.05882), (-3, 0.1), (-2, 0.2), (-1, 0.5), (0, 1), (1, 0.5), (2, 0.2), (3, 0.1), (4, 0.05882), (5, 0.03846)])
interpolate_polynomial_vs_non_polinomial_func(points, len(points) - 1, np.min(points[:, 0]), np.max(points[:, 0]))





def plot_complex_number(z):
    """
    Plots the complex number z as a radius vector in the 2D space
    """
    plt.quiver(0, 0, z.real, z.imag, angles = "xy", scale_units = "xy", scale = 1)
    plt.xticks(range(-4, 6))
    plt.yticks(range(-4, 6))

plot_complex_number(2 + 3j)





def plot_complex_numbers(numbers, colors):
    """
    Plots the given complex numbers as radius vectors in the 2D space
    """
    starting_points = [0] * len(numbers)
    real_nums = [z.real for z in numbers]
    imag_nums = [z.imag for z in numbers]
    
    plt.quiver(starting_points, 
               starting_points, 
               real_nums, imag_nums, 
               angles = "xy", 
               scale_units = "xy",
               scale = 1,
               color = colors,
              )
    
    for _, z in enumerate(numbers):
        plt.text(z.real + 0.7, z.imag + 0.2, f"{z}", ha="right", va="bottom")
        
    plt.xticks(range(-4, 10))
    plt.yticks(range(-4, 10))
    plt.xlabel("x")
    plt.ylabel("y")

plot_complex_numbers([2 + 3j, -2 - 1j, -3, 2j], ["green", "red", "blue", "orange"])





z1 = 2 + 3j
z2 = 1 - 1j
plot_complex_numbers([z1, z2, z1 + z2], ["red", "blue", "green"])





z1 = 2 + 3j
z2 = 2 + 0j
plot_complex_numbers([z1, z2, z1 + z2], ["red", "blue", "green"])


z1 = 2 + 3j
z2 = 0 + 2j
plot_complex_numbers([z1, z2, z1 + z2], ["red", "blue", "green"])





z = 2 + 3j
plot_complex_numbers([z, z * 1], ["red", "blue"])
plot_complex_numbers([z, z * -1], ["red", "blue"])
plot_complex_numbers([z, z * 1j], ["red", "blue"])
plot_complex_numbers([z, z * -1j], ["red", "blue"])








z1 = 2 + 3j
z2 = 1 - 2j
plot_complex_numbers([z1, z2, z1 * z2], ["red", "blue", "green"])





def factorial_recursive(n):
    """
    Computes the factorial of a non-negative number n (using recursion)
    """
    if n == 0:
        return 1
    return n * factorial_recursive(n - 1)

def factorial_iterative(n):
    """
    Computes the factorial of a non-negative number n (using iteration)
    """
    if n == 0:
        return 1
    result = 1
    for i in range(1, n + 1):
        result *= i
        
    return result
        


factorial_recursive(6)


factorial_recursive(6) == factorial_iterative(6) == 6 * factorial_recursive(5)


factorial_iterative(6)


from functools import reduce
import operator

def ft_factorial(n):
    result = 1
    if n == 0:
        return result
        
    return reduce(operator.mul, range(1, n + 1))
    # return reduce(lambda x, y: x * y, range(1, n + 1))


ft_factorial(6)





def nat():
    current_num = 0
    while True:
        yield current_num
        current_num += 1

def even():
    for num in nat():
        if num % 2 == 0:
            yield num


natural_nums = nat()


[next(natural_nums) for _ in range(11)]


[next(natural_nums) for _ in range(11)]


[next(natural_nums) for _ in range(11)]


even_nums = even()


[next(even_nums) for i in range(5)]





def factorial_new(n):
    if n == 0:
        yield 1
    else:
        result = 1
        for i in range(1, n + 1):
            result *= i
            yield result


lazy_factorial = factorial_new(12)


[next(lazy_factorial) for i in range(6)]


[next(lazy_factorial) for i in range(6)]





def fibonacci(n):
    first, second = 0, 1
    for i in range(1, n + 1):
        next_num = first + second
        yield next_num
        first, second = second, next_num


lazy_fibonacci = fibonacci(15)


[next(lazy_fibonacci) for i in range(1)]


[next(lazy_fibonacci) for i in range(5)]








# GPT help!

def mandelbrot(c, max_iter):
    z = 0
    for n in range(max_iter):
        z = z*z + c
        if abs(z) > 2:
            return n
            
    return max_iter

def mandelbrot_set(xmin, xmax, ymin, ymax, width, height, max_iter):
    x = np.linspace(xmin, xmax, width)
    y = np.linspace(ymin, ymax, height)
    pixels = np.zeros((width, height))

    for i in range(width):
        for j in range(height):
            c = x[i] + 1j*y[j]
            pixels[i,j] = mandelbrot(c, max_iter)
    return pixels

def plot_mandelbrot_set(xmin, xmax, ymin, ymax, width, height, max_iter):
    mandelbrot_image = mandelbrot_set(xmin, xmax, ymin, ymax, width, height, max_iter)
    
    # Display the Mandelbrot set
    plt.imshow(mandelbrot_image.T, extent=[xmin, xmax, ymin, ymax])
    plt.title("Mandelbrot set")
    plt.xlabel("x")
    plt.ylabel("y")
    plt.show()


# Define the range and resolution of the Mandelbrot set
xmin, xmax, ymin, ymax = -2.0, 2.0, -2.0, 2.0
width = 1000
height = 750
max_iter = 256

# Plot the Mandelbrot set
plot_mandelbrot_set(xmin, xmax, ymin, ymax, width, height, max_iter)





def apply_rules(state, rules):
    next_state = ""
    for char in state:
        if char in rules:
            next_state += rules[char]
        else:
            next_state += char
    return next_state

def generate_system(axiom, rules, iterations):
    state = axiom
    for _ in range(iterations):
        state = apply_rules(state, rules)
    return state

def plot_coords(coords):
    x_values = [coord[0] for coord in coords]
    y_values = [coord[1] for coord in coords]
    plt.plot(x_values, y_values)

def branching_turtle_to_coords(system, angle):
    coords = [(0, 0)]  # Starting position
    stack = []
    angle_rad = math.radians(angle)
    direction = complex(0, 1)  # Initial direction (upward)
    position = complex(0, 0)   # Initial position

    for char in system:
        if char == 'F':
            new_position = position + direction
            coords.append((new_position.real, new_position.imag))
            position = new_position
        elif char == '+':
            direction *= complex(math.cos(angle_rad), math.sin(angle_rad))
        elif char == '-':
            direction *= complex(math.cos(-angle_rad), math.sin(-angle_rad))
        elif char == '[':
            stack.append((position, direction))
        elif char == ']':
            position, direction = stack.pop()

    return coords

def l_plot(axiom, rules, iterations, angle):
    # Generate L-system
    system = generate_system(axiom, rules, iterations)
    # Convert L-system to branching turtle coordinates
    coords = branching_turtle_to_coords(system, angle)
    # Plot the coordinates
    plot_coords(coords)

# Define the initial state (axiom) and replacement rules
axiom = "F"
rules = {"F": "FF+[-F-F+F]-[+F+F-F]"}

# Plot the L-system with specified parameters
l_plot(axiom, rules, 3, 30)
plt.axis('equal')
plt.show()






def encode(text):
    """
    Returns the run-length encoded version of the text
    (numbers after symbols, length = 1 is skipped)
    """
    encoded_text = ""
    count = 1
    
    for i, el in enumerate(text):    
        char = el
        if len(text) - 1 > i and text[i] == text[i+1]:
            count += 1
        else:
            encoded_text += f"{char}" if count <= 1 else f"{el}{count}"
            count = 1
            
    return encoded_text

def decode(text):
    """
    Decodes the text using run-length encoding
    """
    decoded_text = ""
    last_char = ""
    
    for i, el in enumerate(text): 
        if el.isdigit():
            char_count = last_char * (int(el) - 1)
            decoded_text += char_count  
        else:
            last_char = el
            decoded_text += el
    
    return decoded_text



encode("AAAAABCCDEEE")


decode("A1BC3DE4F")


# Tests
# Test that the functions work on their own
assert encode("AABCCCDEEEE") == "A2BC3DE4"
assert decode("A2BC3DE4") == "AABCCCDEEEE"

# Test that the functions really invert each other
assert decode(encode("AABCCCDEEEE")) == "AABCCCDEEEE"
assert encode(decode("A2BC3DE4")) == "A2BC3DE4"





def factorize(num):
    start_time = time.time()
    f = factorint(num)
    end_time = time.time()
    factorization_time = end_time - start_time
    
    return factorization_time

def multiply(factors):
    result = 1
    start_time = time.time()
    for factor, exponent in factors.items():
        result *= factor ** exponent
    end_time = time.time()
    multiplication_time = end_time - start_time
    
    return multiplication_time


def get_times(bit_list):
    factorization_times, multiplication_times = [], []
    
    for n_bits in bit_list:
        number = random.getrandbits(n_bits)
        factors = factorint(number)
        factorization_time = factorize(number)
        multiplication_time = multiply(factors)
        factorization_times.append(factorization_time)
        multiplication_times.append(multiplication_time)

    plot(factorization_times, multiplication_times)

def plot(factorization_times, multiplication_times):
    plt.plot(bit_list, factorization_times, label="Factorization time")
    plt.plot(bit_list, multiplication_times, label="Multiplication time")
    plt.xlabel("Bits")
    plt.ylabel("Time, sec")
    plt.title("Compare: factorization vs multiplication")
    plt.legend()
    plt.show()


bit_list = [10, 20, 25, 30, 32, 33, 35, 38, 40]
get_times(bit_list)


bit_list = [8, 16, 32, 64, 128]
get_times(bit_list)





def generated_user_key(secret_key, prime_num, generator):
    return pow(generator, secret_key) % prime_num

def generate_user_new_secret_key(user1_num, user2_num, prime_num, generator):
    if not sympy.isprime(prime_num):
        return "`prime_num` must be prime number!"

    if generator >= prime_num:
        return "`generator` must be smaller than `prime_num`!"
    
    new_generator_1 = generated_user_key(user1_num, prime_num, generator)
    new_generator_2 = generated_user_key(user2_num, prime_num, generator)

    new_secret_key_1 = generated_user_key(user1_num, prime_num, new_generator_2)
    new_secret_key_2 = generated_user_key(user2_num, prime_num, new_generator_1)

    return "Secure connection!" if new_secret_key_1 == new_secret_key_2 else "Insecure!"


prime_num = 17
generator = 3
user1_num = 12312
user2_num = 98765
print(generate_user_new_secret_key(user1_num, user2_num, prime_num, generator))


prime_num = 65537
generator = 2
user1_num = 69341
user2_num = 83248
print(generate_user_new_secret_key(user1_num, user2_num, prime_num, generator))






