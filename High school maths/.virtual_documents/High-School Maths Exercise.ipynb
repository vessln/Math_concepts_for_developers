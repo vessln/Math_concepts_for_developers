import sympy
import math
import numpy as np
import matplotlib.pyplot as plt























x = sympy.symbols("x")
a, b, c = sympy.symbols("a b c")





sympy.solve(a * x**2 + b * x + c, x)





def solve_quadratic_equation(a, b, c):
    """
    Returns the real solutions of the quadratic equation ax^2 + bx + c = 0
    """
    if a == 0:
        return [] if b == 0 else [-b / c]
            
    D = b**2 - 4 * a * c
    
    if D > 0:
        return [(-b - math.sqrt(D)) / (2*a), (-b + math.sqrt(D)) / (2*a)]
    elif D == 0:
        return  [(-b / (2*a))]
    else: 
        return []


# Testing: Execute this cell. The outputs should match the expected outputs. Feel free to write more tests
print(solve_quadratic_equation(1, -1, -2)) # [-1.0, 2.0]
print(solve_quadratic_equation(1, -8, 16)) # [4.0]
print(solve_quadratic_equation(1, 1, 1)) # []


# Testing: Execute this cell. The outputs should match the expected outputs. Feel free to write more tests
print(solve_quadratic_equation(0, 1, 4)) 
print(solve_quadratic_equation(0, 3, -3)) 
print(solve_quadratic_equation(0, 0, 0))  








a = 4
b = math.sqrt(a)
print(f"b ** 2 = {b ** 2}")
print(f"pow(b) = {pow(b, 2)}")
print(f"2 * 2 = {2 * 2}")

# python rounds numbers


'''
math.log() computes natural logarithm (with base e) by default,
but i can specify the base - second parameter
'''
nat_log = math.log(16)
print(f"natural logarithm 16 = {nat_log}")

log_16_2 = math.log(16, 2)
print(f"log 16 in base 2 = {log_16_2}")

lg_100_10 = math.log(100, 10)
print(f"lg of 100 in base 10 = {lg_100_10}")


a = 5
power = 2
x = a ** power
print(f"a^power = {x}")
# a^power = X ,  log a X = power 
y = math.log(x, a)
print(f"log a X = {y}")
'''
sqrt: inverse operation of exponentiation. log: inverse operation of exponentiation.
sqrt and log: both are related with finding the inverse operation of exponentiation.
'''






# constants:

a = 3
b = 5


# equantion:

x = np.linspace(-50, 50, 100)
y = 2 * x + 3


# show diagram:
plt.plot(x, y, c = "g", lw=2)

ax = plt.gca()
ax.spines["bottom"].set_position("zero")
ax.spines["left"].set_position("zero")

ax.spines["top"].set_visible(False)
ax.spines["right"].set_visible(False)

ax.xaxis.get_major_ticks()[list(plt.xticks()[0]).index(0)].label1.set_visible(False)
ax.yaxis.get_major_ticks()[list(plt.yticks()[0]).index(0)].label1.set_visible(False)

plt.text(0.48, 0.5, '0', transform=plt.gca().transAxes, ha='right', va='bottom')

plt.annotate("x", xy=(max(x), 0), xytext=(20, 0), ha="left", va="center", textcoords="offset points")
plt.annotate("y", xy=(0, max(y)), xytext=(0, 15), ha="center", va="bottom", textcoords="offset points", rotation=90)

plt.show()











a = 3
b = 5
x = np.linspace(0, 50, 100)
ln_y = np.log(a) + b * x


plt.plot(x, ln_y, c = "r", lw=2)

ax = plt.gca()
ax.spines["bottom"].set_position("zero")
ax.spines["left"].set_position("zero")

ax.spines["top"].set_visible(False)
ax.spines["right"].set_visible(False)

ax.xaxis.get_major_ticks()[list(plt.xticks()[0]).index(0)].label1.set_visible(False)
ax.yaxis.get_major_ticks()[list(plt.yticks()[0]).index(0)].label1.set_visible(False)

plt.text(-0.1, -0.03, '0', transform=plt.gca().transAxes, ha='right', va='bottom')

plt.annotate("x", xy=(max(x), 0), xytext=(10, 0), ha="left", va="center", textcoords="offset points")
plt.annotate("y", xy=(0, max(ln_y)), xytext=(0, 20), ha="center", va="bottom", textcoords="offset points", rotation=90)

plt.suptitle("Linearizing function: ln(y) = ln(a) + bx")

plt.gca().set_aspect("equal")

plt.show()





def def plot_math_function(f, min_x, max_x, num_points):
    x = np.linspace(min_x, max_x, num_points)
    y = f(x)

    plt.plot(x, y, c = "r", lw=2)
    
    ax = plt.gca()
    
    ax.spines["bottom"].set_position("zero")
    ax.spines["left"].set_position("zero")

    ax.xaxis.get_major_ticks()[list(plt.xticks()[0]).index(0.0)].label1.set_visible(False)
    ax.yaxis.get_major_ticks()[list(plt.yticks()[0]).index(0.0)].label1.set_visible(False)

    ax.spines["top"].set_visible(False)
    ax.spines["right"].set_visible(False)

    plt.gca().set_aspect("equal")
    plt.show()


plot_math_function(lambda x: 2 * x + 3, -3, 5, 1000)
plot_math_function(lambda x: -x + 8, -1, 10, 1000)
plot_math_function(lambda x: x**2 - x - 2, -3, 4, 1000)
plot_math_function(lambda x: np.sin(x), -np.pi, np.pi, 1000)
plot_math_function(lambda x: np.sin(x) / x, -4 * np.pi, 4 * np.pi, 1000)





def plot_functions(x, y):
    for i in y:
        plt.plot(x, i, lw=2)
        
    ax = plt.gca()
    ax.spines["bottom"].set_position("zero")
    ax.spines["left"].set_position("zero")
    ax.spines["top"].set_visible(False)
    ax.spines["right"].set_visible(False)
    
    ax.yaxis.get_major_ticks()[list(plt.yticks()[0]).index(0.0)].label1.set_visible(False)
        
    plt.axis('equal')
    
    plt.show()
    
def plot_math_functions(functions, min_x, max_x, num_points):
    x = np.linspace(min_x, max_x, num_points)
    vectorized_functions = [np.vectorize(f) for f in functions]
    ys = [vectorized_f(x) for vectorized_f in vectorized_functions]
    plot_functions(x, ys)


plot_math_functions([lambda x: 2 * x + 3, lambda x: 0], -3, 5, 1000)
plot_math_functions([lambda x: 3 * x**2 - 2 * x + 5, lambda x: 3 * x + 7], -2, 3, 1000)





plot_math_functions([lambda x: (-4 * x + 7) / 3, lambda x: (-3 * x + 8) / 5, lambda x: (-x - 1) / -2], -1, 4, 1000)





def plot_math_functions(functions, min_x, max_x, num_points, f_title):
    x = np.linspace(min_x, max_x, num_points)
    y = functions(x)
        
    ax = plt.gca()
    
    ax.spines["bottom"].set_position("zero")
    ax.spines["left"].set_position("zero")

    plt.suptitle(f_title)
    
    plt.annotate("x", xy=(max(x), 0), xytext=(20, 0), ha="left", va="center", textcoords="offset points")
    plt.annotate("y", xy=(0, max(y)), xytext=(0, 15), ha="center", va="bottom", textcoords="offset points", rotation=90)
    
    plt.gca().set_aspect("equal")
    
    plt.plot(x, y)
    plt.show()








plot_math_functions(lambda x: np.arcsin(x), -1, 1, 100, "arcsin")
plot_math_functions(lambda x: np.arccos(x), -1, 1, 100, "arccos")
plot_math_functions(lambda x: np.arctan(x), -1, 1, 100, "arctan")
plot_math_functions(lambda x: math.pi / 2 - np.arctan(x), -1, 1, 100, "arccot") 




