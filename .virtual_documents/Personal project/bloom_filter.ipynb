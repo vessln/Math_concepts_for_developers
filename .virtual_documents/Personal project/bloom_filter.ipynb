%matplotlib inline
import numpy as np
import matplotlib.pyplot as plt
import time
import mmh3
import hashlib
import bitarray
import math


pip install mmh3


pip install bitarray


















































# Define the input sizes (n):
n = np.arange(1, 7)

# Define the function for each runtime:
constant = np.ones_like(n)
logaritmic = np.log(n)
linear = n
log_linear = n * np.log(n)
quadratic = n ** 2
exponential = 2 ** n

# Plot the functions:
plt.figure(figsize=(8, 5))
plt.plot(n, constant, label="O(1)", marker="o")
plt.plot(n, logaritmic, label="O(log n)", marker="o")
plt.plot(n, linear, label="O(n)", marker="o")
plt.plot(n, log_linear, label="O(n log n)", marker="o")
plt.plot(n, quadratic, label="O(n^2)", marker="o")
plt.plot(n, exponential, label="O(2^n)", marker="o")

plt.xlabel("Input size: n")
plt.ylabel("Operations")
plt.title("Time Complexities")
plt.legend()
plt.grid(True)
plt.show()







































































# example data to hash:
key = "vesi"

# different seed values:
seed1 = 47
seed2 = 123

# generate and return 32-bit integer hash value with sign:
hash_value1 = mmh3.hash(key, seed1)
hash_value2 = mmh3.hash(key, seed2)

print(f"The hash value with seed1 is: {hash_value1}")
print(f"The hash value with seed2 is: {hash_value2}")


# function to measure time of MurmurHash3:
def test_murmurhash3(data):
    start_time = time.time()
    hash_value = mmh3.hash(data)
    end_time = time.time()
    measured_time = end_time - start_time
    
    return hash_value, measured_time

# function to measure time of MD5:
def test_md5(data):
    start_time = time.time()
    hash_object = hashlib.md5(data)
    hash_value = hash_object.hexdigest()
    end_time = time.time()
    measured_time = end_time - start_time
    
    return hash_value, measured_time

# sample data:
data = b"Bloom filters"

# number of iterations:
num_iterations = 10000

# measure time for MMH3:
mmh3_times = []
for _ in range(num_iterations):
    _, time_taken = test_murmurhash3(data)
    mmh3_times.append(time_taken)
    sum_mmh3_times = sum(mmh3_times)

# measure time for MD5:
md5_times = []
for _ in range(num_iterations):
    _, time_taken = test_md5(data)
    md5_times.append(time_taken)
    sum_md6_times = sum(md5_times)

avg_time_mmh3 = sum_mmh3_times / num_iterations
avg_time_md5 = sum_md6_times / num_iterations
print("Average time taken for MurmurHash3:", avg_time_mmh3, "seconds")
print("Average time taken for MD5:", avg_time_md5, "seconds")



































class MyBloomFilter:
    def __init__(self, n, error_rate, base_seed=0):
        self.n = n # max number of elements that can be stored in bit array
        self.error_rate = error_rate # desired maximum false positive rate
        self.base_seed = base_seed # base seed for hash functions
        
        self._num_bits = self._calculate_num_bits(n, error_rate) # number of bits needed
        self._num_hashes = self._calculate_num_hashes(self._num_bits, n) # number of hash functions needed
        self.bit_array = [0] * self._num_bits # set bit array
        
    def insert(self, element):
        for i in range(self._num_hashes):
            # generates a hash value for the element and sets the corresponding bit to 1
            hash_value = mmh3.hash(element, self.base_seed + i) % self._num_bits
            self.bit_array[hash_value] = 1
        
    def lookup(self, element):
        for i in range(self._num_hashes):
            # generates a hash value for the element and checks if the corresponding bit is 1
            hash_value = mmh3.hash(element, self.base_seed + i) % self._num_bits
            if self.bit_array[hash_value] == 0:
                return False # if any of the bits is 0, the element is definitely not present
                
        return True # if all the bits are 1, the element may be present
    
    def _calculate_num_bits(self, n, error_rate):
        # calculates the number of bits needed for a given capacity and error rate
        num_bits = - (n * math.log(error_rate)) / (math.log(2) ** 2)
        return int(num_bits)
    
    def _calculate_num_hashes(self, num_bits, n):
        # calculates the number of hash functions needed for a given number of bits and capacity
        num_hashes = (num_bits / n) * math.log(2)
        return int(num_hashes)


n = 20
error = 0.01

# create instance of class MyBloomFilter:
bf = MyBloomFilter(m, error, base_seed=47)

bf.insert("vesi")

print(bf.lookup("vesi")) 
print(bf.lookup("ves")) 



