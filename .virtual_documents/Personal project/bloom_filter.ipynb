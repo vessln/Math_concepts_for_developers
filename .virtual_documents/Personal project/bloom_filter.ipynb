%matplotlib inline
import numpy as np
import matplotlib.pyplot as plt
























































# Define the input sizes (n):
n = np.arange(1, 7)

# Define the function for each runtime:
constant = np.ones_like(n)
logaritmic = np.log(n)
linear = n
log_linear = n * np.log(n)
quadratic = n ** 2
exponential = 2 ** n

# Plot the functions:
plt.figure(figsize=(8, 5))
plt.plot(n, constant, label="O(1)", marker="o")
plt.plot(n, logaritmic, label="O(log n)", marker="o")
plt.plot(n, linear, label="O(n)", marker="o")
plt.plot(n, log_linear, label="O(n log n)", marker="o")
plt.plot(n, quadratic, label="O(n^2)", marker="o")
plt.plot(n, exponential, label="O(2^n)", marker="o")

plt.xlabel("Input size: n")
plt.ylabel("Operations")
plt.title("Time Complexities")
plt.legend()
plt.grid(True)
plt.show()




























































