





import numpy as np

# 1D array:
array_1d = np.array([1, 2, 3, 4, 5])

# 2D array:
array_2d = np.array([[1, 2, 3], [4, 5, 6], [7, 8, 9]])

# 3x3 array of zeros:
zeros_array = np.zeros((3, 3)) 

# 2x4 array of ones:
ones_array = np.ones((2, 4)) 

# 3x3 identity matrix:
identity_mat = np.identity(3)
eye_mat = np.eye(3, k=1)  


array_1d


array_2d


zeros_array


ones_array


identity_mat ,  eye_mat









