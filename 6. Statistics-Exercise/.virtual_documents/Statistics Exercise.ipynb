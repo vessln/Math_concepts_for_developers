%matplotlib inline


import numpy as np
import matplotlib.pyplot as plt
import pandas as pd
# Write yor imports here








digits = pd.read_table("digits.dat", header = None).T
digits.columns = ["pi", "e"]


digits


digits.pi.index, digits.pi.values


digits.e.index, digits.e.values


def plot_distribution(x):
    plt.bar(x.index, x.values) # width=1.0
    plt.xticks(range(0, 10))
    plt.xlabel("digit")
    plt.ylabel("count of digit")
    plt.title(f"Distribution of first 10K digits in ${x.name}$")
    plt.show()


plot_distribution(digits.pi)


plot_distribution(digits.e)





silica = pd.read_table("silica.dat", header = None)
silica.columns = ["quantity_silica"]
silica


plt.hist(silica.quantity_silica)
plt.xlabel(f"$SiO_2$, %")
plt.ylabel("count")
plt.title("Content of silica in 22 meteors")
plt.show()








budget = pd.read_table("budget.dat")
budget


def plot_budget(year):
    plt.barh(budget["Category"], budget_ds[year])
    plt.xlabel("bil $")
    plt.title(f"US budget for {year}")
    plt.show()


plot_budget("1978")


plot_budget("1979")


plt.barh(budget["Category"], budget["1979"], label = "1979")
plt.barh(budget["Category"], budget["1978"], alpha = 0.7, label = "1978")
plt.xlabel("bil $")
plt.legend()
plt.show()


budget["difference"] = budget["1979"] - budget["1978"] 
plt.barh(budget_ds["Category"], budget["difference"])
plt.xlabel("diff, bil $")
plt.title("Difference between 1979 and 1978")
plt.show()


budget["relative_difference"] = ((budget["1979"] - budget["1978"]) / budget_ds["1978"] ) * 100
plt.barh(budget_ds["Category"], budget["relative_difference"])
plt.xlabel("relative diff, %")
plt.title("Relative difference")
plt.show()


def plot_part(year):
    name = f"part_{year}"
    budget[name] = (budget[year] / budget[year].sum()) * 100
    plt.barh(budget_ds["Category"], budget[name])
    plt.xlabel("part, %")
    plt.title(f"What part of the total budget is {year}")
    plt.show()


plot_part("1978")


plot_part("1979")


plt.pie(budget["part_1979"], labels = budget["Category"], autopct="%.2f%%")
plt.show()





alcohol_tobacco_regions = pd.read_table("alcohol_tobacco.dat")
alcohol_tobacco_regions


alcohol_tobacco_regions[["Alcohol", "Tobacco"]].corr() * 100


plt.scatter(alcohol_tobacco_regions.Alcohol, alcohol_tobacco_regions.Tobacco)
plt.xlabel("alcohol, GBP")
plt.ylabel("tobacco, GBP")
plt.title("Average weekly household spending on tobacco and alcohol for 11 regions of Great Britain")
plt.show()


alcohol_tobacco_regions[
    (alcohol_tobacco_regions.Alcohol < 4.4) & (alcohol_tobacco_regions.Tobacco > 4)
]


new_alc_tob_regions = alcohol_tobacco_regions[alcohol_tobacco_regions.Region != "Northern Ireland"]
new_alc_tob_regions


new_alc_tob_regions[["Alcohol", "Tobacco"]].corr() * 100


plt.scatter(new_alc_tob_regions.Alcohol, new_alc_tob_regions.Tobacco)
plt.xlabel("alcohol, GBP")
plt.ylabel("tobacco, GBP")
plt.title("Average weekly household spending on tobacco and alcohol, without Northern Ireland")
plt.show()





def get_customer_profit():
    n = np.random.random()
    if n <= 0.5:
        return 0.99
    elif n < 0.65:
        return 2.89
    elif n <= 0.85:
        return 2
    else:
        return 6.39


days = 1000
def run_simulation():
    profits = []
    for day in range(days):
        customers = np.floor(np.random.normal(500, 20))
        profit = sum([get_customer_profit() for c in np.arange(customers)])
        profits.append(profit)
    return profits


profits = run_simulation()
plt.hist(profits, bins = 50)
plt.xlabel("Profit for " + str(days) + " days [$]")
plt.ylabel("Count")
plt.show()





def get_customer_profit_many_items(items = 1):
    customer_sum = sum([get_customer_profit() for i in range(items)])
    return customer_sum

def get_total_customer_profit():
    n = np.random.random()
    if n <= 0.5:
        return get_customer_profit_many_items(1)
    elif n <= 0.8:
        return get_customer_profit_many_items(2)
    else:
        return get_customer_profit_many_items(3)


def run_simulation_many_items():
    days = 1000
    profits_many_items = []
    for day in range(days):
        customers = np.floor(np.random.normal(500, 20))
        profit = sum([get_total_customer_profit() for c in np.arange(customers)])
        profits_many_items.append(profit)
    return profits_many_items


profits_many_items = run_simulation_many_items()
plt.hist(profits_many_items, bins = 50)
plt.xlabel("Profit for " + str(days) + " days [$]")
plt.ylabel("Count")
plt.show()


plt.title("Comparison of profits: 1 vs 3 items")
plt.hist(profits, bins = 20)
plt.hist(profits_many_items, bins = 20)
plt.xlabel("Profit")
plt.ylabel("Count")
plt.show()






