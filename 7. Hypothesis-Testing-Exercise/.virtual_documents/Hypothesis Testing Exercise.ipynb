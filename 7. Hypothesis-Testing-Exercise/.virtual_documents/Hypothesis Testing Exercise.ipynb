%matplotlib inline


import numpy as np
import matplotlib.pyplot as plt
import pandas as pd

import scipy.stats as st
from scipy.stats import ttest_ind

import statsmodels
import statsmodels.api as sm
from statsmodels.formula.api import ols

from skimage.io import imread
import scipy.ndimage








ages = pd.read_fwf("https://users.stat.ufl.edu/~winner/data/agedeath.dat")
ages.columns = ["category", "age", "index"] 
ages


ages["index"]


ages.shape


ages = ages.drop(columns = ["index"])
ages


ages.category.value_counts()


ages.groupby("category").age.mean()


ages.groupby("category").age.max()


plt.hist(ages.age, bins=20)
plt.show()


plt.figure(figsize=(10, 6))

for category, group_data in ages.groupby("category"):
    print(category, len(group_data))
    plt.hist(group_data.age, bins = 20, alpha = 0.7, label = category, density = 1)

plt.legend()
plt.xlabel("Age at death")
plt.ylabel("Frequency")
plt.show()


aris = ages[ages.category == "aris"].age
gent = ages[ages.category == "gent"].age
sovr = ages[ages.category == "sovr"].age


aris, gent, sovr


st.ttest_ind(aris, gent, equal_var = False)


st.ttest_ind(gent, sovr, equal_var = False)


st.ttest_ind(aris, sovr, equal_var = False)





horse_beginners = pd.read_fwf("data/horse_beginners.dat", index_col = 0)


horse_beginners


st.ttest_rel(horse_beginners.Actual, horse_beginners.Imaginary) 


st.ttest_ind(horse_beginners.Actual, horse_beginners.Imaginary)





car_interest_rates = pd.read_fwf("data/newcar.dat", skiprows = 25, header = None)


car_interest_rates.columns = ["rate", "city"]
car_interest_rates


# whether there are equal counts from each city
car_interest_rates.city.value_counts()


# average rate
car_interest_rates.rate.mean() 


# average rate by towns
car_interest_rates.groupby("city").rate.mean()


cities = [value for (key, value) in list(car_interest_rates.groupby("city").rate)]


len([value for (key, value) in list(car_interest_rates.groupby("city").rate)])


st.f_oneway(*cities)


ttest_ind(cities[0], cities[1], equal_var = False)





rats = pd.read_fwf("data/ratfeed.dat", skiprows = 25)


rats.columns = ["weight_gain", "diet_amount", "diet_type"]
rats


rats.weight_gain.mean()


rats.groupby("diet_amount").weight_gain.mean()


ttest_ind(rats[rats.diet_amount == 1].weight_gain, rats[rats.diet_amount == 2].weight_gain)


st.f_oneway(rats[rats.diet_amount == 1].weight_gain, rats[rats.diet_amount == 2].weight_gain)


st.f_oneway(rats[rats.diet_type == 1].weight_gain, rats[rats.diet_type == 2].weight_gain, rats[rats.diet_type == 3].weight_gain)


diet_types = {1: "beef", 2: "pork", 3: "cereal"}
diet_amounts = {1: "high", 2: "low"}


for diet_type, group_data in rats.groupby("diet_type"):
    plt.hist(group_data.weight_gain, bins = 20, alpha = 0.7, label = diet_types[diet_type], density = 1)
    
plt.legend()
plt.show()


for diet_amount, group_data in rats.groupby("diet_amount"):
    plt.hist(group_data.weight_gain, alpha = 0.7, label = diet_amounts[diet_amount], density = 1)
    
plt.legend()
plt.show()





formula = "weight_gain ~ C(diet_amount) + C(diet_type) + C(diet_amount):C(diet_type)"
model = ols(formula, rats).fit()


table = statsmodels.stats.anova.anova_lm(model, typ = 2)
table


model.summary()





# Write your code here





# Write your code here





# Write your code here








original_image = imread("https://upload.wikimedia.org/wikipedia/commons/d/d9/Norwegian_Forest_Cat_Portrait.JPG")

def display(image):
    # If there is only one channel to show, display it as grayscale
    cm = None
    if(len(image.shape)) == 2:
        cm = "gray"
    plt.figure(figsize = (5, 10))
    plt.imshow(image, cmap = cm)
    plt.xticks([])
    plt.yticks([])
    plt.show()

display(original_image)
r = original_image[:, :, 0]
display(r)





# Write your code here





# Write your code here






