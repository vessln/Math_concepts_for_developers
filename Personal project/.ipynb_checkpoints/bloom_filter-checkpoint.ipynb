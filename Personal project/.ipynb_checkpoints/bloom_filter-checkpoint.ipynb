{
 "cells": [
  {
   "cell_type": "code",
   "execution_count": 1,
   "id": "ad4252b6-2d46-447b-ab08-8075fd917e3e",
   "metadata": {},
   "outputs": [],
   "source": [
    "%matplotlib inline\n",
    "import matplotlib.pyplot as plt\n",
    "import numpy as np"
   ]
  },
  {
   "cell_type": "markdown",
   "id": "c957622c-1757-4b18-b2d1-98dfa5c02ab6",
   "metadata": {},
   "source": [
    "# Probabilistic data structure - Bloom Filter"
   ]
  },
  {
   "cell_type": "markdown",
   "id": "2e3f23d0-ab5c-4fff-ae03-8eda50e959fc",
   "metadata": {},
   "source": [
    "In this notebook I will talk about probabilistic data structures and some concepts related to them. **Bloom Filter** is one such interesting structure. I will take a closer look at what it is, how it works, its algorithm, operations it supports, comparison with a non-probabilistic data structure. Finally, I will discuss the application of Bloom Filter with examples. Enjoy reading!"
   ]
  },
  {
   "cell_type": "markdown",
   "id": "07905d42-c561-4bb7-aa1a-a7bcd5d5e057",
   "metadata": {},
   "source": [
    "### Contents:"
   ]
  },
  {
   "cell_type": "markdown",
   "id": "959530b3-919d-4262-8e64-0fe937777116",
   "metadata": {},
   "source": [
    "1. Overview of Data Structures\n",
    "   * Definition\n",
    "   * Examples\n",
    "2. Complexity analysis\n",
    "   * Time complexity\n",
    "   * Space complexity\n",
    "3. Hashing in Data Structures\n",
    "   * Definition\n",
    "   * Importance\n",
    "   * Hash collision\n",
    "4. Probabilistic data structures\n",
    "   * Definition and concept - explain how they differ from deterministic ones.\n",
    "   * Where the probabilistic behavior comes from?\n",
    "   * Advantages of these structures\n",
    "5. Introduction to Bloom Filter\n",
    "   * History\n",
    "   * Basic concept\n",
    "6. Construction of Bloom filter\n",
    "   * Components - detailed Steps of construction\n",
    "   * The role of hash function\n",
    "7. Working of a Bloom Filter\n",
    "   * Operations\n",
    "   * Probabilities associated with these operations - False Positives and False Negatives\n",
    "   * Runtime analisys of operations\n",
    "   * Space complexity analisys\n",
    "   * Comparison with non probabilistic data structure (Hash Table)\n",
    "   * Pros and cons\n",
    "8. Usage of Bloom filters\n",
    "   * example\n",
    "   * explanation\n",
    "   * implementation\n",
    "   * metrics\n",
    "9. Conclusion\n",
    "10. References"
   ]
  },
  {
   "cell_type": "code",
   "execution_count": null,
   "id": "31fab2cf-8dd6-44fe-8623-3636ef8ec252",
   "metadata": {},
   "outputs": [],
   "source": []
  }
 ],
 "metadata": {
  "kernelspec": {
   "display_name": "Python 3 (ipykernel)",
   "language": "python",
   "name": "python3"
  },
  "language_info": {
   "codemirror_mode": {
    "name": "ipython",
    "version": 3
   },
   "file_extension": ".py",
   "mimetype": "text/x-python",
   "name": "python",
   "nbconvert_exporter": "python",
   "pygments_lexer": "ipython3",
   "version": "3.11.7"
  }
 },
 "nbformat": 4,
 "nbformat_minor": 5
}
