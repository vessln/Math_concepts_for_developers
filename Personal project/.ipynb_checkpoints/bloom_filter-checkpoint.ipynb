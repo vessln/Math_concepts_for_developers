{
 "cells": [
  {
   "cell_type": "code",
   "execution_count": 1,
   "id": "ad4252b6-2d46-447b-ab08-8075fd917e3e",
   "metadata": {},
   "outputs": [],
   "source": [
    "%matplotlib inline\n",
    "import matplotlib.pyplot as plt\n",
    "import numpy as np"
   ]
  },
  {
   "cell_type": "markdown",
   "id": "c957622c-1757-4b18-b2d1-98dfa5c02ab6",
   "metadata": {},
   "source": [
    "# Probabilistic data structure - Bloom Filter"
   ]
  },
  {
   "cell_type": "markdown",
   "id": "2e3f23d0-ab5c-4fff-ae03-8eda50e959fc",
   "metadata": {},
   "source": [
    "In this notebook I will talk about probabilistic data structures and some concepts related to them. **Bloom Filter** is one such interesting structure. I will take a closer look at what it is, how it works, its algorithm, operations it supports, comparison with a non-probabilistic data structure. Finally, I will discuss the application of Bloom Filter with examples. Enjoy reading!"
   ]
  },
  {
   "cell_type": "markdown",
   "id": "07905d42-c561-4bb7-aa1a-a7bcd5d5e057",
   "metadata": {},
   "source": [
    "### Contents"
   ]
  },
  {
   "cell_type": "code",
   "execution_count": null,
   "id": "cab3d9c0-4fc0-44b1-b818-7f5fecb91ba3",
   "metadata": {},
   "outputs": [],
   "source": []
  }
 ],
 "metadata": {
  "kernelspec": {
   "display_name": "Python 3 (ipykernel)",
   "language": "python",
   "name": "python3"
  },
  "language_info": {
   "codemirror_mode": {
    "name": "ipython",
    "version": 3
   },
   "file_extension": ".py",
   "mimetype": "text/x-python",
   "name": "python",
   "nbconvert_exporter": "python",
   "pygments_lexer": "ipython3",
   "version": "3.11.7"
  }
 },
 "nbformat": 4,
 "nbformat_minor": 5
}
