{
 "cells": [
  {
   "cell_type": "code",
   "execution_count": 1,
   "id": "ad4252b6-2d46-447b-ab08-8075fd917e3e",
   "metadata": {},
   "outputs": [],
   "source": [
    "%matplotlib inline\n",
    "import matplotlib.pyplot as plt\n",
    "import numpy as np"
   ]
  },
  {
   "cell_type": "markdown",
   "id": "c957622c-1757-4b18-b2d1-98dfa5c02ab6",
   "metadata": {},
   "source": [
    "# Probabilistic data structure - Bloom Filter"
   ]
  },
  {
   "cell_type": "markdown",
   "id": "2e3f23d0-ab5c-4fff-ae03-8eda50e959fc",
   "metadata": {},
   "source": [
    "In this notebook I will talk about probabilistic data structures and some concepts related to them. **Bloom Filter** is one such interesting structure. I will take a closer look at what it is, how it works, its algorithm, operations it supports, comparison with a non-probabilistic data structure. Finally, I will discuss the application of Bloom Filter with examples. Enjoy reading!"
   ]
  },
  {
   "cell_type": "markdown",
   "id": "07905d42-c561-4bb7-aa1a-a7bcd5d5e057",
   "metadata": {},
   "source": [
    "### Contents:"
   ]
  },
  {
   "cell_type": "markdown",
   "id": "959530b3-919d-4262-8e64-0fe937777116",
   "metadata": {},
   "source": [
    "1. Overview of data structures\n",
    "   * Definition\n",
    "   * Examples\n",
    "2. Complexity analysis\n",
    "   * Time complexity\n",
    "   * Space complexity\n",
    "3. Hashing in data structures\n",
    "   * Definition\n",
    "   * Importance\n",
    "   * Hash collision\n",
    "4. Probabilistic data structures\n",
    "   * Definition and concept\n",
    "   * Where the probabilistic behavior comes from?\n",
    "   * Advantages of these structures\n",
    "5. Introduction to Bloom Filter\n",
    "   * History\n",
    "   * Basic concept\n",
    "6. Construction of Bloom Filter\n",
    "   * Components - detailed steps of construction\n",
    "   * The role of hash function\n",
    "7. Working of a Bloom Filter\n",
    "   * Operations\n",
    "   * Probabilities associated with these operations\n",
    "   * Runtime analisys of operations\n",
    "   * Space complexity analisys\n",
    "   * Comparison with non probabilistic data structure (Hash Table)\n",
    "   * Pros and cons\n",
    "8. Usage of Bloom Filters\n",
    "   * example\n",
    "   * explanation\n",
    "   * implementation\n",
    "   * metrics\n",
    "9. Conclusion\n",
    "10. References"
   ]
  },
  {
   "cell_type": "markdown",
   "id": "d279a12e-d775-43f2-8553-ad0877335c66",
   "metadata": {},
   "source": [
    "## 1. Data structure"
   ]
  },
  {
   "cell_type": "markdown",
   "id": "e754dc5b-d376-43ec-8e61-145a27d4e9fc",
   "metadata": {},
   "source": [
    "One of the most important questions in computer science is how to store and organize data. With the development of the first electronic computers the need for efficient data organization became evident. These early computers used simple data structures like arrays to manage data. Data structures are crucial and play a foundational role in computing."
   ]
  },
  {
   "cell_type": "markdown",
   "id": "c148de2a-0a0e-45e2-9329-01ea6be93603",
   "metadata": {},
   "source": [
    "**Data structure** is a way of organizing, managing and storing data in a computer so that it can be accessed fast and modified efficiently. Data structures rely on the computer's capability to access and store data at any location in its memory, determined by a pointer. A pointer is a bit string that represents a memory address and can be stored and managed by the program. In programming data structure is often chosen or created to store data specifically for use with various algorithms. Usually, the fundamental operations of the algorithm are closely linked to the design of the data structure. Data structures are important to computer science for many reasons:\n",
    "   * Efficiency: Efficient data structures allow for the efficient storage, retrieval and modification of data. This can significantly improve the performance of software applications and algorithms, particularly those that need to process large amounts of data.\n",
    "   * Resource management: Data structures can help manage system resources such as memory and CPU time more effectively. For example, using a memory-efficient data structure can help a program run on systems with limited resources.\n",
    "   * Scalability: As applications grow in complexity and data volume, appropriate data structures help ensure that the software remains scalable and performs well.\n",
    "   * Complex problem solving: Many complex problems in computer science can be broken down and solved more easily with the help of appropriate data structures. For example hash tables provide O(1) constant time complexity for insertion, deletion and lookup operations, making them ideal for software that requires fast access to data such as dictionaries..\n",
    "   * Code readability and maintainability: Using well-known data structures can make code more readable and easy to maintainance."
   ]
  },
  {
   "cell_type": "markdown",
   "id": "051c408f-6023-4688-bcb7-405ce3fbf54b",
   "metadata": {},
   "source": [
    "Different kinds of data structures are suited to different specific tasks. The choice of data structure can affect the performance of a program or algorithm, making it a crucial consideration in software development and computer science. Data structures can be divided into 2 categories: linear and non-linear. **Examples** of commonly used data structures:"
   ]
  },
  {
   "cell_type": "markdown",
   "id": "98d67704-5a28-46a2-b0d9-40c665be070e",
   "metadata": {},
   "source": [
    "**Array** is the most simplest linear data structure. They represent collections of elements, stored in contiguous memory locations. Each element is identified and can be accessed directly using its index, which takes constant time. The index is usually a non-negative integer. All elements in an array are typically of the same data type. Many other data structures such as stacks and queues can be implemented using arrays. Arrays are ideal for storing sequences of data such as lists of numbers. Multidimensional arrays are used to represent matrices.s."
   ]
  },
  {
   "cell_type": "markdown",
   "id": "f57b6792-1cdf-4851-9d41-42d39127828e",
   "metadata": {},
   "source": [
    "**Linked List** is a linear data structure in which each element, called a node, contains a data part and link. Data is the value or data part of the node.\n",
    "Link is the reference to the next node in the collection. This structure allows for efficient insertion and deletion of elements. There are several variations of them like singly linked lists, doubly linked lists. Linked list implement undo functionality in software applications where each action is stored as a node."
   ]
  },
  {
   "cell_type": "markdown",
   "id": "e58986dd-beaf-4e42-a996-e512440a6165",
   "metadata": {},
   "source": [
    "**Stack** is linear collection of elements with last-in, first-out (LIFO) access - the last element added is the first one to be removed. It can be implemented using arrays or linked lists. The insert (push) and delete (pop) operations take constant time O(1). It is used in situations where the most recently added element needs to be accessed first, such as in backtracking, undo mechanisms."
   ]
  },
  {
   "cell_type": "markdown",
   "id": "b3d26c11-5eaa-42b1-8f73-99091e527b7a",
   "metadata": {},
   "source": [
    "**Queue** is another linear collection of elements with first-in, first-out (FIFO) access - the first element added is the first one to be removed. Enqueue (adding) and dequeue (removing) operations have O(1) time complexity. Queues are suitable for applications which manage tasks and processes in a fair order like task scheduling softwares. In graph traversal algorithms like Breadth First Search, queues are used to explore nodes level by level."
   ]
  },
  {
   "cell_type": "markdown",
   "id": "c5e378a7-a9c4-4023-97fe-c8f2e1a10ae4",
   "metadata": {},
   "source": [
    "**Tree** is non-linear hierarchical data structure consisting of nodes. It is representing relationships with a parent-child structure. The tree has root - the topmost node of a tree, which has no parent. Node - each element in the tree, consisting of a value and references to child nodes. Edge - the link between a parent node and a child node. Leaf - a node with no childrens. The tree support different operations like insertion, deletion, searching.  It is commonly used to implement efficient search algorithms, to represent hierarchical relationships, such as file systems."
   ]
  },
  {
   "cell_type": "markdown",
   "id": "ca1cd970-10aa-4dc1-8bac-65e82a7a7a66",
   "metadata": {},
   "source": [
    "**Graph** is a widely-used data structure in computer science. It is a non-linear data structure which consist nodes (vertices) and edges, that connect pairs of nodes. Basic operations on graphs are adding nodes and edge and traversal. Traversal is the process of visiting all nodes in the graph. The two main methods are: Depth-First Search (DFS) and Breadth-First Search (BFS). Graphs find use in social networks, communication networks."
   ]
  }
 ],
 "metadata": {
  "kernelspec": {
   "display_name": "Python 3 (ipykernel)",
   "language": "python",
   "name": "python3"
  },
  "language_info": {
   "codemirror_mode": {
    "name": "ipython",
    "version": 3
   },
   "file_extension": ".py",
   "mimetype": "text/x-python",
   "name": "python",
   "nbconvert_exporter": "python",
   "pygments_lexer": "ipython3",
   "version": "3.11.7"
  }
 },
 "nbformat": 4,
 "nbformat_minor": 5
}
